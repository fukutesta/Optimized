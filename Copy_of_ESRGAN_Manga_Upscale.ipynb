{
  "cells": [
    {
      "cell_type": "markdown",
      "metadata": {
        "id": "view-in-github",
        "colab_type": "text"
      },
      "source": [
        "<a href=\"https://colab.research.google.com/github/fukutesta/Optimized/blob/main/Copy_of_ESRGAN_Manga_Upscale.ipynb\" target=\"_parent\"><img src=\"https://colab.research.google.com/assets/colab-badge.svg\" alt=\"Open In Colab\"/></a>"
      ]
    },
    {
      "cell_type": "code",
      "execution_count": null,
      "metadata": {
        "id": "nYEj5CeCqbTY",
        "cellView": "form"
      },
      "outputs": [],
      "source": [
        "#@title [0] Giữ cho colab không tắt</font>\n",
        "\n",
        "\n",
        "import IPython\n",
        "from IPython.display import clear_output\n",
        "from google.colab import output\n",
        "\n",
        "display(IPython.display.Javascript('''\n",
        " function connectRefresher() {\n",
        "       window.ConnectButtonIntervalId = setInterval(function ConnectButton(){\n",
        "                console.log(\"connected\");\n",
        "                document.querySelector(\"#top-toolbar > colab-connect-button\").shadowRoot.querySelector(\"#connect\").click();\n",
        "                document.querySelector(\"colab-sessions-dialog\").shadowRoot.querySelector(\"#footer > div > paper-button\").click();\n",
        "                console.log(\"closed the dialog!!\");\n",
        "            },60000);\n",
        "    }\n",
        "\n",
        " function clearRefresher() {\n",
        "           console.log(\"clear Interval called !!\");\n",
        "           clearInterval(window.ConnectButtonIntervalId);\n",
        "    }\n",
        "\n",
        " connectRefresher(); //to connect the refresher\n",
        " clearRefresher(); //to disconnect the refresher\n",
        "'''))\n",
        "\n",
        "clear_output()"
      ]
    },
    {
      "cell_type": "code",
      "execution_count": null,
      "metadata": {
        "id": "rzI_UE2kfUER",
        "colab": {
          "base_uri": "https://localhost:8080/"
        },
        "outputId": "88bed015-8352-4ea9-a5a0-d24b63da6220",
        "cellView": "form"
      },
      "outputs": [
        {
          "output_type": "stream",
          "name": "stdout",
          "text": [
            "Mounted at /content/drive\n"
          ]
        }
      ],
      "source": [
        "#@title [1] Kết nối với Google Drive\n",
        "from google.colab import drive\n",
        "drive.mount('/content/drive', force_remount=True)\n",
        "#!echo Phải chạy code lại nếu bị disconnect"
      ]
    },
    {
      "cell_type": "markdown",
      "metadata": {
        "id": "-IpzaXbRm2hZ"
      },
      "source": [
        "<font size=5><center>**ESRGAN**</center></font>\n",
        "\n"
      ]
    },
    {
      "cell_type": "code",
      "execution_count": null,
      "metadata": {
        "colab": {
          "base_uri": "https://localhost:8080/"
        },
        "id": "WUVFNJ8omlD1",
        "outputId": "1c86e5b7-1548-41d6-f7b3-6e0586b58b90"
      },
      "outputs": [
        {
          "output_type": "stream",
          "name": "stdout",
          "text": [
            "Installed at /content/ESRGAN\n"
          ]
        }
      ],
      "source": [
        "#@title [2] Tải ESRGAN\n",
        "#@markdown Notebook này sử dụng <a href=\"https://github.com/JoeyBallentine/ESRGAN/\" target=\"_blank\">ESRGAN fork of JoeyBallentine</a>\n",
        "from IPython.display import clear_output\n",
        "%cd /content\n",
        "#!sudo apt-get install cuda\n",
        "!git clone https://github.com/JoeyBallentine/ESRGAN.git\n",
        "%cd /content/ESRGAN\n",
        "!pip install -r requirements.txt\n",
        "clear_output()\n",
        "!echo Installed at /content/ESRGAN"
      ]
    },
    {
      "cell_type": "markdown",
      "metadata": {
        "id": "10uqLAtrBvsf"
      },
      "source": []
    },
    {
      "cell_type": "code",
      "execution_count": null,
      "metadata": {
        "colab": {
          "base_uri": "https://localhost:8080/",
          "referenced_widgets": [
            "04932cd0a2c34da0a0454f795f737f2b",
            "f1e8d9552380490caf4afd2f972a757e",
            "dc7270280f76480a859fa3ffc46cb9ec"
          ]
        },
        "id": "U4tQpHy97ZhE",
        "outputId": "1363aa0c-0849-4a61-c5e2-08232a5b00ee"
      },
      "outputs": [
        {
          "output_type": "stream",
          "name": "stdout",
          "text": [
            "Lựa chọn model\n"
          ]
        },
        {
          "output_type": "display_data",
          "data": {
            "text/plain": [
              "Dropdown(options=('4x_DigiManga.pth', '4x-eula-digimanga-bw-v2-nc1.pth', '4x-AnimeSharp.pth'), value='4x_DigiM…"
            ],
            "application/vnd.jupyter.widget-view+json": {
              "version_major": 2,
              "version_minor": 0,
              "model_id": "04932cd0a2c34da0a0454f795f737f2b"
            }
          },
          "metadata": {}
        }
      ],
      "source": [
        "#@title [3] Tải và thiết lập các model\n",
        "#@markdown <font size=2>Bạn có thể tải thêm model từ trang web này > <a href=\"https://upscale.wiki/wiki/Model_Database\" target=\"_blank\">https://upscale.wiki/wiki/Model_Database</a> dựa theo format các model bên dưới</font>\n",
        "import ipywidgets as widgets\n",
        "model_list = []\n",
        "!pip install mega.py\n",
        "from mega import Mega\n",
        "mega = Mega()\n",
        "m = mega.login()\n",
        "%cd /content/ESRGAN/models\n",
        "\n",
        "MangaJPEG = False #@param {type: \"boolean\"}\n",
        "if MangaJPEG:\n",
        "  m.download_url('https://mega.nz/file/MYEwyaSI#InO9qpK8NLJj6cVL2B3Z-CZehOc_qStGUUZNd-MJmNA')\n",
        "  m.download_url('https://mega.nz/file/QBknBQgI#zeFPSLxoguPrLhAWPJHg4YvMT8BMa7nZuXGCzEpCs_w')\n",
        "  m.download_url('https://mega.nz/file/9QUUSYYC#Bx8gmu2ZyNd-FemUfqbZOGcI9RRX2xc9orgvgP-KMyg')\n",
        "  m.download_url('https://mega.nz/file/NYsSEbLT#NygiYv0F8OLGwMGA-gGyZhIA8g-V0__TbsIsXQ-TcQQ')\n",
        "  model_list.extend(['1x_MangaJPEGHQPlus.pth','1x_MangaJPEGHQ.pth','1x_MangaJPEGMQ.pth','1x_MangaJPEGLQ.pth'])\n",
        "#@markdown <font size=2>author: <i>Bunzero</i><br>scale: `1x`<br>models: `1x_MangaJPEGHQPlus.pth`, `1x_MangaJPEGHQ.pth`, `1x_MangaJPEGMQ.pth`, `1x_MangaJPEGLQ.pth`<br>info: <i>Remove noise and JPEG artefacts from images without disturing the screentones</i></font>\n",
        "\n",
        "DigiManga = True #@param {type: \"boolean\"}\n",
        "if DigiManga:\n",
        "  m.download_url('https://mega.nz/file/m5syxKYB#SPsua_0RE-tWnM5s2GZzShHlwx1tMvRSLSOhuUhtVYc')\n",
        "  model_list.append('4x_DigiManga.pth')\n",
        "#@markdown <font size=2>author: <i>EULA</i><br>scale: `4x`<br>models: `4x_DigiManga.pth`<br>info: <i>Upscale B/W Manga Images to 4x with great screentone effect</i></font>\n",
        "\n",
        "DigiMangav2 = False #@param {type: \"boolean\"}\n",
        "if DigiManga:\n",
        "  m.download_url('https://mega.nz/file/4ddQEYgB#ty2nUNX-ylp-UNKMLVSbjDVBAAGk9mwKCfyBshtnWpA')\n",
        "  model_list.append('4x-eula-digimanga-bw-v2-nc1.pth')\n",
        "#@markdown <font size=2>author: <i>EULA</i><br>scale: `4x`<br>models: `4x-eula-digimanga-bw-v2-nc1.pth`<br>info: <i>V1 Improvement</i></font>\n",
        "\n",
        "LiloScale = False #@param {type: \"boolean\"}\n",
        "if LiloScale:\n",
        "  !gdown --id 1XcU9BALwsHnT922O9CA0_HqswlKs4244\n",
        "  model_list.append('2xLiloScaleV0.2_80K.pth')\n",
        "ReFocus = False #@param {type: \"boolean\"}\n",
        "if ReFocus:\n",
        "  m.download_url('https://mega.nz/file/hAVyxI6b#YzVeAfNerwKvUKZ8I6ESa-RhjW82NiU-O7g_QLLdIt8')\n",
        "  model_list.append('1x-ReFocus-V3.pth')\n",
        "#@markdown <font size=2>author: <i>Twittman</i><br>scale: `1x`<br>models: `1x-ReFocus-V3.pth`<br>info: <i>DeBlur, ReFocus, Sharpen Real life style images, but will work on Anime images too..</i></font>\n",
        "\n",
        "original_RRDB_ESRGAN = False #@param {type: \"boolean\"}\n",
        "if original_RRDB_ESRGAN:\n",
        "  !gdown --id 1TPrz5QKd8DHHt1k8SRtm6tMiPjz_Qene\n",
        "  !gdown --id 1pJ_T-V1dpb1ewoEra1TGSWl5e6H7M4NN\n",
        "  !gdown --id 1MJFgqXJrMkPdKtiuy7C6xfsU1QIbXEb-\n",
        "  !gdown --id 1mSJ6Z40weL-dnPvi390xDd3uZBCFMeqr\n",
        "  model_list.extend(['RRDB_ESRGAN_x4.pth','RRDB_PSNR_x4.pth','RRDB_ESRGAN_x4_old_arch.pth','RRDB_PSNR_x4_old_arch.pth'])\n",
        "#@markdown <font size=2>author: <i>Xintao Wang and co.</i><br>scale: `4x`<br>models: `RRDB_ESRGAN_x4.pth`, `RRDB_PSNR_x4.pth`, `RRDB_ESRGAN_x4_old_arch.pth`, `RRDB_PSNR_x4_old_arch.pth`<br>info: <i>The original pre-trained models for upscaling</i></font>\n",
        "\n",
        "transformed_ESRGAN = False #@param {type: \"boolean\"}\n",
        "if transformed_ESRGAN:\n",
        "  m.download_url('https://mega.nz/file/vtgSWKQT#K7Asn2zKe4N70R2aV89KEMTKhH3aiyGAAiuQDJF09qs')\n",
        "  m.download_url('https://mega.nz/file/6kwQiCCS#v2uN8R44vVrlzmSqffGaCnzgogkPhhl67myJbuG45SA')\n",
        "  model_list.extend(['2xESRGAN.pth','8xESRGAN.pth'])\n",
        "#@markdown <font size=2>author: <i>victorca25</i><br>scale: `2x`, `8x`<br>models: `2xESRGAN.pth`, `8xESRGAN.pth`<br>info: <i>Transformed models from the original pre-trained model into the other scales.</i></font>\n",
        "\n",
        "\n",
        "\n",
        "\n",
        "\n",
        "AnimeSharp4x = True #@param {type: \"boolean\"}\n",
        "if AnimeSharp4x:\n",
        "  m.download_url('https://mega.nz/file/CFZGHb4A#yo2NaVANd9-gk9n4lxA9zkzKPqVukZYpzendRVCinDw')\n",
        "  model_list.append('4x-AnimeSharp.pth')\n",
        "#@markdown <font size=2>author: <i>kim0</i><br>scale: `4x`<br>models: `4x-AnimeSharp.pth`<br>info: <i>Upscale colored mangas with a nice x4 upscaling</i></font>\n",
        "\n",
        "AnimeSharp4x_lite = False #@param {type: \"boolean\"}\n",
        "if AnimeSharp4x_lite:\n",
        "  m.download_url('https://mega.nz/folder/bEoRQIRR#kEsaVHtwRL9vwfa5k2osyQ/file/zdwBhIZI')\n",
        "  model_list.append('4x-AnimeSharp-lite.pth')\n",
        "#@markdown <font size=2>author: <i>kim0</i><br>scale: `4x`<br>models: `4x-AnimeSharp-lite`<br>info: <i>Upscale colored mangas with a nice x4 upscaling (light version of 4x-AnimeSharp)</i></font>\n",
        "\n",
        "\n",
        "\n",
        "\n",
        "MangaScale_V3 = False #@param {type: \"boolean\"}\n",
        "if MangaScale_V3:\n",
        "  m.download_url('https://mega.nz/file/nR51EYYC#RcAKkxb8hAzvZAj4TLxnAukd9gbrYuUeyjUp2l1ffb8')\n",
        "  !gdown --id 1RGxHR-g-VjAgAr9XwBVjH1ydT-vlMXtQ\n",
        "  model_list.append('2x_MangaScaleV3.pth')\n",
        "#@markdown <font size=2>author: <i>Bunzero</i><br>scale: `2x`<br>model: `2x_MangaScaleV3.pth`<br>info: <i>upscaling q=70~ jpeg with implementing screentones</i></font>\n",
        "\n",
        "Falcon_Fanart = False #@param {type: \"boolean\"}\n",
        "if Falcon_Fanart:\n",
        "  !gdown --id 1bqyG9llxkJ6i6MJTaNUiSgSXtrlPi0d7\n",
        "  !7z e falcoon300.7z\n",
        "  !rm ./falcoon300.7z\n",
        "  model_list.append('falcoon300.pth')\n",
        "#@markdown <font size=2>author: <i>LyonHrt</i><br>scale: `4x`<br>model: `falcoon300.pth`<br>info: <i>upscaling anime, manga digital art. Falcoon Fanart tries to improve upon Manga109Attempt's slightly blurriness with the goal of removing checkerboard patterns / and dithering. It has oil color based shading with sharp lines.</i></font>\n",
        "\n",
        "DigiPaint = False #@param {type: \"boolean\"}\n",
        "if DigiPaint:\n",
        "  !gdown --id 103MX2bvd3GW0MYpC53ABU5VYY6v1t99Y\n",
        "  model_list.append('DigiPaint35000.pth')\n",
        "#@markdown <font size=2>author: <i>TheAtheistGod</i><br>scale: `4x`<br>model: `DigiPaint35000.pth`<br>info: <i>DigiPaint is a digital art upscaler designed to take brush strokes into account, based off of the Falcoon Fanart model.</i></font>\n",
        "\n",
        "FatalimiX = False #@param {type: \"boolean\"}\n",
        "if FatalimiX:\n",
        "  !wget 'https://de-next.owncube.com/index.php/s/jYnFtncarkBmpcF/download?downloadFile' -O 4x_Fatality_Comix_260000_G.pth\n",
        "  model_list.append('4x_Fatality_Comix_260000_G.pth')\n",
        "#@markdown <font size=2>author: <i>Twittman</i><br>scale: `4x`<br>model: `4x_Fatality_Comix_260000_G.pth`<br>info: <i>FatalimiX is specialized in making low res comics to high res.</i></font>\n",
        "\n",
        "Fatality_DeBlur = False #@param {type: \"boolean\"}\n",
        "if Fatality_DeBlur:\n",
        "  !wget 'https://de-next.owncube.com/index.php/s/aAojXwLTPZto8rP/download?downloadFile' -O 1x_Fatality_DeBlur_270000_G.pth\n",
        "  model_list.append('1x_Fatality_DeBlur_270000_G.pth')\n",
        "#@markdown <font size=2>author: <i>Twittman</i><br>scale: `1x`<br>model: `1x_Fatality_DeBlur_270000_G.pth`<br>info: <i>Fatality DeBlur is intended for general deblurring of images, and has some robustness against compression and noise.</i></font>\n",
        "\n",
        "Baldrick_VHS_Fix_v0_2 = False #@param {type: \"boolean\"}\n",
        "if Baldrick_VHS_Fix_v0_2:\n",
        "  !wget 'https://icecube-eu-286.icedrive.io/download?p=Dsw65F5PttucA5GEjk5gTDoACdeM3oTN%2BrQDtV%2FiKP2VAtmmRiM0DiW8uIw4jbIXxER5myuy%2BuaWIRatD8bd0uJCntJjsTenc%2ByKYMPLWB83pOeTqxF%2FeVUS7OJLRfnJr7MOWInM002a%2BoZusB7Zy3LWg233LnrW703lny%2FG6d4s6dBVUaZtjLD1StShNKkOAtw3QzBhfBMU%2BN8NxNzmQz%2BobFFQm6heSvhEBqxRoBY%3D' -O 1xBaldrickVHSFix_180000_G_V0.2.pth\n",
        "  model_list.append('1xBaldrickVHSFix_180000_G_V0.2.pth')\n",
        "#@markdown <font size=2>author: <i>NimRodZorg</i><br>scale: `1x`<br>model: `1xBaldrickVHSFix_180000_G_V0.2.pth`<br>info: <i>Fixing minor VHS Chroma and Pattern Noise. May applicable for similar scanned images.</i></font>\n",
        "\n",
        "jpg_BlueAmulet = False #@param {type: \"boolean\"}\n",
        "if jpg_BlueAmulet:\n",
        "  !gdown --id 1lgpo60okKC_9D6mzymHOvwdJDsOqxi7j\n",
        "  !gdown --id 1V2PTYzMMDIB7NNCp-ZXhIf26a0xHO2b2\n",
        "  !gdown --id 17ocFMDz4jfYH73mT_4i1099JCGVnOHd2\n",
        "  model_list.extend(['1x_JPEG_40-60.pth','1x_JPEG_60-80.pth','1x_JPEG_80-100.pth'])\n",
        "#@markdown <font size=2>author: <i>BlueAmulet</i><br>scale: `1x`<br>models: `1x_JPEG_40-60.pth`, `1x_JPEG_60-80.pth`, `1x_JPEG_80-100.pth`<br>info: <i>Denoising JPG compressed Images</i></font>\n",
        "\n",
        "Jaywreck3 = False #@param {type: \"boolean\"}\n",
        "if Jaywreck3:\n",
        "  !wget 'https://icecube-eu-286.icedrive.io/download?p=Dsw65F5PttucA5GEjk5gTNHVbsvS0d9n4xG6iXebmHCnTeooDTK7XndlvQ%2FuyuS5wk43pZR81aUfwK0Qs%2FEg6B82OqzvZu1AgH79k%2FcnLQs6heqXMag1L1KDKpFQORZbjlHupFMKCpFpIZ%2BbnTm2GI%2F26D8nYJlgZ2aQDUDnql10yibDRmMxdS%2BwZggofl5YFr1qQ6KiOLY3RvYru4UnTW5J4jS8ksBNxa%2BQmbmw%2FQE%3D' -O 1x_NMKD-Jaywreck3-Lite_320k.pth\n",
        "  !wget 'https://icecube-eu-286.icedrive.io/download?p=Dsw65F5PttucA5GEjk5gTNHVbsvS0d9n4xG6iXebmHCca1B9yE5n7QBqgoUooLeCEnt%2F55UtaHUigRVI1rEIbH2ijD5ZS7iFE89O%2FAkjhU5T4bTeZUGulQAPIoaKN85rPMCPVO%2FEMIoxB8SRx%2BgV5wyHpNRsRT6L7CS8yb7n99Ov0TtRBKIx9SgXyZPYlMXNvo1wW02WGBmFGtIJqSJsA1lLYjuTLMjIsAEuZSLrlvU%3D' -O 1x_NMKD-Jaywreck3-Soft-Lite_320k.pth\n",
        "  model_list.extend(['1x_NMKD-Jaywreck3-Lite_320k.pth','1x_NMKD-Jaywreck3-Soft-Lite_320k.pth'])\n",
        "#@markdown <font size=2>author: <i>nmkd</i><br>scale: `1x`<br>models: `1x_NMKD-Jaywreck3-Lite_320k.pth`, `1x_NMKD-Jaywreck3-Soft-Lite_320k.pth`<br>info: <i>Denoising JPG compressed Images. It is trained to handle any amount of JPEG compression, even removing artifacts of quality 5 JPEGs. Its only weakness is a slight tendency to oversharpen certain textures. It's recommended to not use this model for very small images</i></font>\n",
        "\n",
        "SaiyaJin_DeJpeg = False #@param {type: \"boolean\"}\n",
        "if SaiyaJin_DeJpeg:\n",
        "  !wget 'https://f002.backblazeb2.com/file/ESRGAN/_RELEASE/1x_Saiyajin_DeJPEG_300000_G.pth'\n",
        "  model_list.append('1x_Saiyajin_DeJPEG_300000_G.pth')\n",
        "#@markdown <font size=2>author: <i>Twittman</i><br>scale: `1x`<br>model: `1x_Saiyajin_DeJPEG_300000_G.pth`<br>info: <i>Denoising JPG compressed Images from 2% to 100% quality.</i></font>\n",
        "\n",
        "Colorizer = False #@param {type: \"boolean\"}\n",
        "if Colorizer:\n",
        "  !gdown --id 1UgxnymTfLaVhY3aaDuBRnTZ9ehckKVKJ\n",
        "  model_list.append('1x_ColorizerV2_22000G.pth')\n",
        "#@markdown <font size=2>author: <i>BlackScout</i><br>scale: `1x`<br>model: `1x_ColorizerV2_22000G.pth`<br>info: <i>Coloring black and white images.</i></font>\n",
        "FSMangaV2 = False #@param {type: \"boolean\"}\n",
        "if FSMangaV2:\n",
        "  m.download_url('https://mega.nz/file/YMkRkbjC#rG4RI38RlHz5h12R94uD0ddhfLvfhNOYs2r39PmwjqY')\n",
        "  model_list.append('4xFSMangaV2.pth')\n",
        "\n",
        "\n",
        "\n",
        "clear_output()\n",
        "model = widgets.Dropdown(options=model_list, value=model_list[0])\n",
        "!echo 'Lựa chọn model'\n",
        "model"
      ]
    },
    {
      "cell_type": "code",
      "execution_count": null,
      "metadata": {
        "colab": {
          "base_uri": "https://localhost:8080/"
        },
        "id": "zHfXbGK2xIns",
        "outputId": "7b1f052f-2a64-497a-af1d-7797246e4b7f"
      },
      "outputs": [
        {
          "output_type": "stream",
          "name": "stdout",
          "text": [
            "/content/ESRGAN\n",
            "python upscale.py --input /content/drive/MyDrive/Nnn/input --output /content/drive/MyDrive/Nnn/output --seamless tile --cache-max-split-depth --alpha-threshold 0.5 --alpha-boundary-offset 0.2 --alpha-mode none 4x-eula-digimanga-bw-v2-nc1.pth\n",
            "Model: \u001b[32m\"models/4x-eula-digimanga-bw-v2-nc1.pth\"\u001b[0m\n",
            "\u001b[2K\u001b[2;36m[17:27:14]\u001b[0m\u001b[2;36m \u001b[0m\u001b[31mWARNING \u001b[0m Truncating image channels                                         \u001b]8;id=376811;file:///content/ESRGAN/upscale.py\u001b\\\u001b[2mupscale.py\u001b[0m\u001b]8;;\u001b\\\u001b[2m:\u001b[0m\u001b]8;id=549342;file:///content/ESRGAN/upscale.py#449\u001b\\\u001b[2m449\u001b[0m\u001b]8;;\u001b\\\n",
            "\u001b[2KUpscaling \u001b[90m━━━━━━━━━━━━━━━━━━━━━━━━━━━━━━━━━━━━━━━━\u001b[0m \u001b[35m100%\u001b[0m \u001b[36m0:00:00\u001b[0m\n",
            "\u001b[?25hESRGAN process ended\n"
          ]
        }
      ],
      "source": [
        "# import module\n",
        "from PIL import Image\n",
        "#@title [4] Chạy model\n",
        "input_folder = '/content/drive/MyDrive/Nnn/input' #@param {type: \"string\"}\n",
        "output_folder = '/content/drive/MyDrive/Nnn/output' #@param {type: \"string\"}\n",
        "#@markdown <font size=2>if \"output_folder\" is empty, it'll create a \"*_esrgan-ed\" folder in the parent folder of \"input_folder\"</font>\n",
        "import os\n",
        "if output_folder.strip()=='':\n",
        "  %cd '{input_folder}'\n",
        "  ifolderpath = os.getcwd()\n",
        "  ifolder = os.path.basename(ifolderpath)\n",
        "  ofolder = ifolder + '_esrgan-ed'\n",
        "  %cd ..\n",
        "  %mkdir '{ofolder}'\n",
        "  %cd '{ofolder}'\n",
        "  output_folder = os.getcwd()\n",
        "\n",
        "#@markdown ___\n",
        "#@markdown Các config nâng cao, truy cập <a href=\"https://github.com/JoeyBallentine/ESRGAN/\" target=\"_blank\">https://github.com/JoeyBallentine/ESRGAN/</a> để biết thêm.\n",
        "skip_existing_output_files = False #@param {type:\"boolean\"}\n",
        "if skip_existing_output_files:\n",
        "  skip_existing_output_files = ' --skip-existing'\n",
        "else:\n",
        "  skip_existing_output_files = ''\n",
        "#@markdown <font size=1>if there are previously processed files in \"output_folder\", and you want to skip them instead of overwriting them.</font>\n",
        "delete_input_files_after_process = False #@param {type:\"boolean\"}\n",
        "if delete_input_files_after_process:\n",
        "  delete_input_files_after_process = ' --delete-input'\n",
        "else:\n",
        "  delete_input_files_after_process = ''\n",
        "seamless = 'tile' #@param ['tile','mirror','replicate','alpha_pad']\n",
        "#@markdown <font size=1>Helps seamlessly process an image. tile = repeating along edges. mirror = reflected along edges. replicate = extended pixels along edges. alpha_pad = extended alpha border.</font>\n",
        "use_CPU_instead_of_CUDA = False #@param {type:\"boolean\"}\n",
        "if use_CPU_instead_of_CUDA:\n",
        "  use_CPU_instead_of_CUDA = ' --cpu'\n",
        "else:\n",
        "  use_CPU_instead_of_CUDA = ''\n",
        "#@markdown <font size=1>you can try using the TPU runtime type instead of GPU</font>\n",
        "floating_point_16 = False #@param {type:\"boolean\"}\n",
        "if floating_point_16:\n",
        "  floating_point_16 = ' --floating-point-16'\n",
        "else:\n",
        "  floating_point_16 = ''\n",
        "#@markdown <font size=1>FloatingPoint16/Halftensor type may increase process time in exchange for slight decrease on the accuracy.</font>\n",
        "cache_max_split_depth = True #@param {type:\"boolean\"}\n",
        "if cache_max_split_depth:\n",
        "  cache_max_split_depth = ' --cache-max-split-depth'\n",
        "else:\n",
        "  cache_max_split_depth = ''\n",
        "#@markdown <font size=1>If you're processing images of the same size, you can enable this to only calculate the automatic tile size once to improve performance.</font>\n",
        "#@markdown ___\n",
        "#@markdown <font size=2><center>**extra settings (alpha transparency)**</center></font>\n",
        "binary_alpha = False #@param {type:\"boolean\"}\n",
        "if binary_alpha:\n",
        "  binary_alpha = ' --binary-alpha'\n",
        "else:\n",
        "  binary_alpha = ''\n",
        "#@markdown <font size=1>Whether to use a 1 bit alpha transparency channel, Useful for PSX upscaling.</font>\n",
        "ternary_alpha = False #@param {type:\"boolean\"}\n",
        "if ternary_alpha:\n",
        "  ternary_alpha = ' --ternary-alpha'\n",
        "else:\n",
        "  ternary_alpha = ''\n",
        "#@markdown <font size=1>Whether to use a 2 bit alpha transparency channel, Useful for PSX upscaling.</font>\n",
        "alpha_threshold =  0.5#@param {type:\"number\"}\n",
        "#@markdown <font size=1>Only used when binary_alpha is supplied. Defines the alpha threshold for binary transparency.</font>\n",
        "alpha_boundary_offset =  0.2#@param {type:\"number\"}\n",
        "#@markdown <font size=1>Only used when binary_alpha is supplied. Determines the offset boundary from the alpha threshold for half transparency.</font>\n",
        "alpha_mode = 'none' #@param ['none','bas','alpha_separately','swapping']\n",
        "#@markdown <font size=1>Type of alpha processing to use. no_alpha = is no alpha processing. bas = is BA's difference method. alpha_separately = is upscaling the alpha channel separately (like IEU). swapping = is swapping an existing channel with the alpha channel.</font>\n",
        "#@markdown ___\n",
        "verbose = False #@param {type:\"boolean\"}\n",
        "if verbose:\n",
        "  verbose = ' --verbose'\n",
        "else:\n",
        "  verbose = ''\n",
        "customize_model_usage = \"\" #@param {type:\"string\"}\n",
        "if customize_model_usage.strip()=='':\n",
        "  model_pth = model.value\n",
        "else:\n",
        "  model_pth = customize_model_usage\n",
        "\n",
        "#@markdown <font size=1>Leave this empty if you use only one model that you have selected in the previous cell's output.<br>Else you can manually input the string for \"model chaining\" (eg- `1xSSAntiAlias9x.pth>4xBox.pth`) or \"on-the-fly interpolation\" (eg- `1x_model1.pth@50|1x_model2.pth@50>2x_model3.pth`).</font>\n",
        "\n",
        "%cd /content/ESRGAN\n",
        "cmd = f\"python upscale.py --input '{input_folder}' --output '{output_folder}'{skip_existing_output_files}{delete_input_files_after_process} --seamless {seamless}{use_CPU_instead_of_CUDA}{floating_point_16}{cache_max_split_depth}{binary_alpha}{ternary_alpha} --alpha-threshold {alpha_threshold} --alpha-boundary-offset {alpha_boundary_offset} --alpha-mode {alpha_mode}{verbose} '{model_pth}'\"\n",
        "!echo $cmd\n",
        "!$cmd\n",
        "!echo ESRGAN process ended\n",
        "\n",
        "\n",
        "\n",
        "\n",
        "\n",
        "\n",
        "\n"
      ]
    },
    {
      "cell_type": "code",
      "execution_count": null,
      "metadata": {
        "colab": {
          "base_uri": "https://localhost:8080/",
          "height": 219
        },
        "id": "gg9ELqMTtM3P",
        "outputId": "a0ad9bc0-4b96-43c1-fc96-ff40188560fc"
      },
      "outputs": [
        {
          "output_type": "error",
          "ename": "NotADirectoryError",
          "evalue": "[Errno 20] Not a directory: '/content/drive/MyDrive/Nnn/output'",
          "traceback": [
            "\u001b[0;31m---------------------------------------------------------------------------\u001b[0m",
            "\u001b[0;31mNotADirectoryError\u001b[0m                        Traceback (most recent call last)",
            "\u001b[0;32m<ipython-input-11-46279f46ca5c>\u001b[0m in \u001b[0;36m<cell line: 13>\u001b[0;34m()\u001b[0m\n\u001b[1;32m     11\u001b[0m \u001b[0;34m\u001b[0m\u001b[0m\n\u001b[1;32m     12\u001b[0m \u001b[0;31m# Get the list of files in the input folder\u001b[0m\u001b[0;34m\u001b[0m\u001b[0;34m\u001b[0m\u001b[0m\n\u001b[0;32m---> 13\u001b[0;31m \u001b[0mfile_list\u001b[0m \u001b[0;34m=\u001b[0m \u001b[0mos\u001b[0m\u001b[0;34m.\u001b[0m\u001b[0mlistdir\u001b[0m\u001b[0;34m(\u001b[0m\u001b[0minput_folder\u001b[0m\u001b[0;34m)\u001b[0m\u001b[0;34m\u001b[0m\u001b[0;34m\u001b[0m\u001b[0m\n\u001b[0m\u001b[1;32m     14\u001b[0m \u001b[0;34m\u001b[0m\u001b[0m\n\u001b[1;32m     15\u001b[0m \u001b[0;31m# Loop through each file in the input folder\u001b[0m\u001b[0;34m\u001b[0m\u001b[0;34m\u001b[0m\u001b[0m\n",
            "\u001b[0;31mNotADirectoryError\u001b[0m: [Errno 20] Not a directory: '/content/drive/MyDrive/Nnn/output'"
          ]
        }
      ],
      "source": [
        "#@title [5] Resize ảnh\n",
        "from PIL import Image\n",
        "import os\n",
        "\n",
        "# Set the input and output folders\n",
        "input_folder = '/content/drive/MyDrive/Nnn/output'\n",
        "output_folder = '/content/drive/MyDrive/Nnn/resize'\n",
        "\n",
        "# Create the output folder if it doesn't exist\n",
        "os.makedirs(output_folder, exist_ok=True)\n",
        "\n",
        "# Get the list of files in the input folder\n",
        "file_list = os.listdir(input_folder)\n",
        "\n",
        "# Loop through each file in the input folder\n",
        "for file_name in file_list:\n",
        "    # Construct the full path of the input file\n",
        "    input_file_path = os.path.join(input_folder, file_name)\n",
        "\n",
        "    # Open the image using Pillow\n",
        "    image = Image.open(input_file_path)\n",
        "\n",
        "    # Downscale the image by a factor of 4 using Lanczos interpolation\n",
        "    width, height = image.size\n",
        "    new_size = (width // 2.5, height //2.5)\n",
        "    downscaled_image = image.resize(new_size, Image.LANCZOS)\n",
        "\n",
        "    # Construct the full path of the output file\n",
        "    output_file_path = os.path.join(output_folder, file_name)\n",
        "\n",
        "    # Save the downscaled image to the output folder\n",
        "    downscaled_image.save(output_file_path)\n",
        "\n",
        "    print(f\"Downscaled and saved: {output_file_path}\")\n"
      ]
    },
    {
      "cell_type": "code",
      "execution_count": null,
      "metadata": {
        "cellView": "form",
        "colab": {
          "base_uri": "https://localhost:8080/",
          "height": 17
        },
        "id": "QOjKya3RKZ_E",
        "outputId": "11cafba4-0208-432e-d88d-4f415cba1050"
      },
      "outputs": [
        {
          "data": {
            "application/javascript": [
              "\n",
              "    async function download(id, filename, size) {\n",
              "      if (!google.colab.kernel.accessAllowed) {\n",
              "        return;\n",
              "      }\n",
              "      const div = document.createElement('div');\n",
              "      const label = document.createElement('label');\n",
              "      label.textContent = `Downloading \"${filename}\": `;\n",
              "      div.appendChild(label);\n",
              "      const progress = document.createElement('progress');\n",
              "      progress.max = size;\n",
              "      div.appendChild(progress);\n",
              "      document.body.appendChild(div);\n",
              "\n",
              "      const buffers = [];\n",
              "      let downloaded = 0;\n",
              "\n",
              "      const channel = await google.colab.kernel.comms.open(id);\n",
              "      // Send a message to notify the kernel that we're ready.\n",
              "      channel.send({})\n",
              "\n",
              "      for await (const message of channel.messages) {\n",
              "        // Send a message to notify the kernel that we're ready.\n",
              "        channel.send({})\n",
              "        if (message.buffers) {\n",
              "          for (const buffer of message.buffers) {\n",
              "            buffers.push(buffer);\n",
              "            downloaded += buffer.byteLength;\n",
              "            progress.value = downloaded;\n",
              "          }\n",
              "        }\n",
              "      }\n",
              "      const blob = new Blob(buffers, {type: 'application/binary'});\n",
              "      const a = document.createElement('a');\n",
              "      a.href = window.URL.createObjectURL(blob);\n",
              "      a.download = filename;\n",
              "      div.appendChild(a);\n",
              "      a.click();\n",
              "      div.remove();\n",
              "    }\n",
              "  "
            ],
            "text/plain": [
              "<IPython.core.display.Javascript object>"
            ]
          },
          "metadata": {},
          "output_type": "display_data"
        },
        {
          "data": {
            "application/javascript": [
              "download(\"download_bea4a588-cd95-4de1-9c69-e7234632200d\", \"output.7z\", 22374717)"
            ],
            "text/plain": [
              "<IPython.core.display.Javascript object>"
            ]
          },
          "metadata": {},
          "output_type": "display_data"
        }
      ],
      "source": [
        "#@title download the output_folder as 7zip\n",
        "%cd '{output_folder}'\n",
        "%cd ..\n",
        "!7z a '{output_folder}' '{output_folder}/*'\n",
        "clear_output()\n",
        "import google.colab.files\n",
        "out_7z = output_folder + '.7z'\n",
        "downloaded = google.colab.files.download(out_7z)"
      ]
    }
  ],
  "metadata": {
    "colab": {
      "provenance": [],
      "include_colab_link": true
    },
    "kernelspec": {
      "display_name": "Python 3",
      "name": "python3"
    },
    "language_info": {
      "name": "python"
    },
    "widgets": {
      "application/vnd.jupyter.widget-state+json": {
        "04932cd0a2c34da0a0454f795f737f2b": {
          "model_module": "@jupyter-widgets/controls",
          "model_name": "DropdownModel",
          "model_module_version": "1.5.0",
          "state": {
            "_dom_classes": [],
            "_model_module": "@jupyter-widgets/controls",
            "_model_module_version": "1.5.0",
            "_model_name": "DropdownModel",
            "_options_labels": [
              "4x_DigiManga.pth",
              "4x-eula-digimanga-bw-v2-nc1.pth",
              "4x-AnimeSharp.pth"
            ],
            "_view_count": null,
            "_view_module": "@jupyter-widgets/controls",
            "_view_module_version": "1.5.0",
            "_view_name": "DropdownView",
            "description": "",
            "description_tooltip": null,
            "disabled": false,
            "index": 0,
            "layout": "IPY_MODEL_f1e8d9552380490caf4afd2f972a757e",
            "style": "IPY_MODEL_dc7270280f76480a859fa3ffc46cb9ec"
          }
        },
        "f1e8d9552380490caf4afd2f972a757e": {
          "model_module": "@jupyter-widgets/base",
          "model_name": "LayoutModel",
          "model_module_version": "1.2.0",
          "state": {
            "_model_module": "@jupyter-widgets/base",
            "_model_module_version": "1.2.0",
            "_model_name": "LayoutModel",
            "_view_count": null,
            "_view_module": "@jupyter-widgets/base",
            "_view_module_version": "1.2.0",
            "_view_name": "LayoutView",
            "align_content": null,
            "align_items": null,
            "align_self": null,
            "border": null,
            "bottom": null,
            "display": null,
            "flex": null,
            "flex_flow": null,
            "grid_area": null,
            "grid_auto_columns": null,
            "grid_auto_flow": null,
            "grid_auto_rows": null,
            "grid_column": null,
            "grid_gap": null,
            "grid_row": null,
            "grid_template_areas": null,
            "grid_template_columns": null,
            "grid_template_rows": null,
            "height": null,
            "justify_content": null,
            "justify_items": null,
            "left": null,
            "margin": null,
            "max_height": null,
            "max_width": null,
            "min_height": null,
            "min_width": null,
            "object_fit": null,
            "object_position": null,
            "order": null,
            "overflow": null,
            "overflow_x": null,
            "overflow_y": null,
            "padding": null,
            "right": null,
            "top": null,
            "visibility": null,
            "width": null
          }
        },
        "dc7270280f76480a859fa3ffc46cb9ec": {
          "model_module": "@jupyter-widgets/controls",
          "model_name": "DescriptionStyleModel",
          "model_module_version": "1.5.0",
          "state": {
            "_model_module": "@jupyter-widgets/controls",
            "_model_module_version": "1.5.0",
            "_model_name": "DescriptionStyleModel",
            "_view_count": null,
            "_view_module": "@jupyter-widgets/base",
            "_view_module_version": "1.2.0",
            "_view_name": "StyleView",
            "description_width": ""
          }
        }
      }
    }
  },
  "nbformat": 4,
  "nbformat_minor": 0
}